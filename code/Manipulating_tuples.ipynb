{
 "cells": [
  {
   "cell_type": "markdown",
   "id": "280c6345",
   "metadata": {},
   "source": [
    "This is a short example to show how to read and write ROOT tuples in python. We shall use [`uproot`](https://uproot.readthedocs.io/en/latest/) to avoid needing compiled dependencies."
   ]
  },
  {
   "cell_type": "code",
   "execution_count": 1,
   "id": "a0157f65",
   "metadata": {},
   "outputs": [],
   "source": [
    "import uproot"
   ]
  },
  {
   "cell_type": "code",
   "execution_count": 13,
   "id": "197e2cdd",
   "metadata": {},
   "outputs": [
    {
     "name": "stdout",
     "output_type": "stream",
     "text": [
      "['nEvent', 'D0_M', 'B0_P', 'Dst_P', 'D0_P', 'B0_PT', 'Dst_PT', 'D0_PT', 'B0_phi', 'Dst_phi', 'D0_phi', 'B0_Mcorr', 'Dst_Mcorr', 'D0_Mcorr', 'B0_FD', 'Dst_FD', 'D0_FD', 'D0_E', 'D0_PX', 'D0_PY', 'D0_PZ', 'B0_IP', 'Dst_IP', 'D0_IP', 'B0_MINIP', 'Dst_MINIP', 'D0_MINIP', 'B0_origX', 'Dst_origX', 'D0_origX', 'B0_origY', 'Dst_origY', 'D0_origY', 'B0_origZ', 'Dst_origZ', 'D0_origZ', 'B0_vtxX', 'Dst_vtxX', 'D0_vtxX', 'B0_vtxY', 'Dst_vtxY', 'D0_vtxY', 'B0_vtxZ', 'Dst_vtxZ', 'D0_vtxZ', 'pi_slow_P', 'mu_P', 'K_P', 'pi_P', 'pi_slow_PT', 'mu_PT', 'K_PT', 'pi_PT', 'pi_slow_phi', 'mu_phi', 'K_phi', 'pi_phi', 'mu_E', 'K_E', 'pi_E', 'mu_PX', 'K_PX', 'pi_PX', 'mu_PY', 'K_PY', 'pi_PY', 'mu_PZ', 'K_PZ', 'pi_PZ', 'pi_slow_ProbNNmu', 'mu_ProbNNmu', 'K_ProbNNmu', 'pi_ProbNNmu', 'pi_slow_ProbNNe', 'mu_ProbNNe', 'K_ProbNNe', 'pi_ProbNNe', 'pi_slow_ProbNNpi', 'mu_ProbNNpi', 'K_ProbNNpi', 'pi_ProbNNpi', 'pi_slow_ProbNNk', 'mu_ProbNNk', 'K_ProbNNk', 'pi_ProbNNk', 'pi_slow_ProbNNp', 'mu_ProbNNp', 'K_ProbNNp', 'pi_ProbNNp', 'pi_slow_IP', 'mu_IP', 'K_IP', 'pi_IP', 'pi_slow_MINIP', 'mu_MINIP', 'K_MINIP', 'pi_MINIP', 'pi_slow_origX', 'mu_origX', 'K_origX', 'pi_origX', 'pi_slow_origY', 'mu_origY', 'K_origY', 'pi_origY', 'pi_slow_origZ', 'mu_origZ', 'K_origZ', 'pi_origZ', 'MCorr', 'pi_slow_PX', 'pi_slow_PY', 'pi_slow_PZ', 'pi_slow_E', 'Dst_PX', 'Dst_PY', 'Dst_PZ', 'Dst_E', 'Dst_M', 'B0_PX', 'B0_PY', 'B0_PZ', 'B0_E', 'B0_M']\n"
     ]
    }
   ],
   "source": [
    "# Open a file and get the tree 'DecayTree'. Then see what branches are available\n",
    "_f = uproot.open(\"../data/Combinatorial_data.root\")[\"DecayTree\"]\n",
    "print(_f.keys())"
   ]
  },
  {
   "cell_type": "code",
   "execution_count": 14,
   "id": "40080f22",
   "metadata": {},
   "outputs": [
    {
     "name": "stderr",
     "output_type": "stream",
     "text": [
      "/home/mark/.local/lib/python3.10/site-packages/uproot/interpretation/library.py:795: PerformanceWarning: DataFrame is highly fragmented.  This is usually the result of calling `frame.insert` many times, which has poor performance.  Consider joining all columns at once using pd.concat(axis=1) instead. To get a de-fragmented frame, use `newframe = frame.copy()`\n",
      "  out[name] = series[name]\n",
      "/home/mark/.local/lib/python3.10/site-packages/uproot/interpretation/library.py:795: PerformanceWarning: DataFrame is highly fragmented.  This is usually the result of calling `frame.insert` many times, which has poor performance.  Consider joining all columns at once using pd.concat(axis=1) instead. To get a de-fragmented frame, use `newframe = frame.copy()`\n",
      "  out[name] = series[name]\n",
      "/home/mark/.local/lib/python3.10/site-packages/uproot/interpretation/library.py:795: PerformanceWarning: DataFrame is highly fragmented.  This is usually the result of calling `frame.insert` many times, which has poor performance.  Consider joining all columns at once using pd.concat(axis=1) instead. To get a de-fragmented frame, use `newframe = frame.copy()`\n",
      "  out[name] = series[name]\n",
      "/home/mark/.local/lib/python3.10/site-packages/uproot/interpretation/library.py:795: PerformanceWarning: DataFrame is highly fragmented.  This is usually the result of calling `frame.insert` many times, which has poor performance.  Consider joining all columns at once using pd.concat(axis=1) instead. To get a de-fragmented frame, use `newframe = frame.copy()`\n",
      "  out[name] = series[name]\n",
      "/home/mark/.local/lib/python3.10/site-packages/uproot/interpretation/library.py:795: PerformanceWarning: DataFrame is highly fragmented.  This is usually the result of calling `frame.insert` many times, which has poor performance.  Consider joining all columns at once using pd.concat(axis=1) instead. To get a de-fragmented frame, use `newframe = frame.copy()`\n",
      "  out[name] = series[name]\n",
      "/home/mark/.local/lib/python3.10/site-packages/uproot/interpretation/library.py:795: PerformanceWarning: DataFrame is highly fragmented.  This is usually the result of calling `frame.insert` many times, which has poor performance.  Consider joining all columns at once using pd.concat(axis=1) instead. To get a de-fragmented frame, use `newframe = frame.copy()`\n",
      "  out[name] = series[name]\n",
      "/home/mark/.local/lib/python3.10/site-packages/uproot/interpretation/library.py:795: PerformanceWarning: DataFrame is highly fragmented.  This is usually the result of calling `frame.insert` many times, which has poor performance.  Consider joining all columns at once using pd.concat(axis=1) instead. To get a de-fragmented frame, use `newframe = frame.copy()`\n",
      "  out[name] = series[name]\n",
      "/home/mark/.local/lib/python3.10/site-packages/uproot/interpretation/library.py:795: PerformanceWarning: DataFrame is highly fragmented.  This is usually the result of calling `frame.insert` many times, which has poor performance.  Consider joining all columns at once using pd.concat(axis=1) instead. To get a de-fragmented frame, use `newframe = frame.copy()`\n",
      "  out[name] = series[name]\n",
      "/home/mark/.local/lib/python3.10/site-packages/uproot/interpretation/library.py:795: PerformanceWarning: DataFrame is highly fragmented.  This is usually the result of calling `frame.insert` many times, which has poor performance.  Consider joining all columns at once using pd.concat(axis=1) instead. To get a de-fragmented frame, use `newframe = frame.copy()`\n",
      "  out[name] = series[name]\n",
      "/home/mark/.local/lib/python3.10/site-packages/uproot/interpretation/library.py:795: PerformanceWarning: DataFrame is highly fragmented.  This is usually the result of calling `frame.insert` many times, which has poor performance.  Consider joining all columns at once using pd.concat(axis=1) instead. To get a de-fragmented frame, use `newframe = frame.copy()`\n",
      "  out[name] = series[name]\n",
      "/home/mark/.local/lib/python3.10/site-packages/uproot/interpretation/library.py:795: PerformanceWarning: DataFrame is highly fragmented.  This is usually the result of calling `frame.insert` many times, which has poor performance.  Consider joining all columns at once using pd.concat(axis=1) instead. To get a de-fragmented frame, use `newframe = frame.copy()`\n",
      "  out[name] = series[name]\n",
      "/home/mark/.local/lib/python3.10/site-packages/uproot/interpretation/library.py:795: PerformanceWarning: DataFrame is highly fragmented.  This is usually the result of calling `frame.insert` many times, which has poor performance.  Consider joining all columns at once using pd.concat(axis=1) instead. To get a de-fragmented frame, use `newframe = frame.copy()`\n",
      "  out[name] = series[name]\n",
      "/home/mark/.local/lib/python3.10/site-packages/uproot/interpretation/library.py:795: PerformanceWarning: DataFrame is highly fragmented.  This is usually the result of calling `frame.insert` many times, which has poor performance.  Consider joining all columns at once using pd.concat(axis=1) instead. To get a de-fragmented frame, use `newframe = frame.copy()`\n",
      "  out[name] = series[name]\n",
      "/home/mark/.local/lib/python3.10/site-packages/uproot/interpretation/library.py:795: PerformanceWarning: DataFrame is highly fragmented.  This is usually the result of calling `frame.insert` many times, which has poor performance.  Consider joining all columns at once using pd.concat(axis=1) instead. To get a de-fragmented frame, use `newframe = frame.copy()`\n",
      "  out[name] = series[name]\n",
      "/home/mark/.local/lib/python3.10/site-packages/uproot/interpretation/library.py:795: PerformanceWarning: DataFrame is highly fragmented.  This is usually the result of calling `frame.insert` many times, which has poor performance.  Consider joining all columns at once using pd.concat(axis=1) instead. To get a de-fragmented frame, use `newframe = frame.copy()`\n",
      "  out[name] = series[name]\n",
      "/home/mark/.local/lib/python3.10/site-packages/uproot/interpretation/library.py:795: PerformanceWarning: DataFrame is highly fragmented.  This is usually the result of calling `frame.insert` many times, which has poor performance.  Consider joining all columns at once using pd.concat(axis=1) instead. To get a de-fragmented frame, use `newframe = frame.copy()`\n",
      "  out[name] = series[name]\n",
      "/home/mark/.local/lib/python3.10/site-packages/uproot/interpretation/library.py:795: PerformanceWarning: DataFrame is highly fragmented.  This is usually the result of calling `frame.insert` many times, which has poor performance.  Consider joining all columns at once using pd.concat(axis=1) instead. To get a de-fragmented frame, use `newframe = frame.copy()`\n",
      "  out[name] = series[name]\n",
      "/home/mark/.local/lib/python3.10/site-packages/uproot/interpretation/library.py:795: PerformanceWarning: DataFrame is highly fragmented.  This is usually the result of calling `frame.insert` many times, which has poor performance.  Consider joining all columns at once using pd.concat(axis=1) instead. To get a de-fragmented frame, use `newframe = frame.copy()`\n",
      "  out[name] = series[name]\n",
      "/home/mark/.local/lib/python3.10/site-packages/uproot/interpretation/library.py:795: PerformanceWarning: DataFrame is highly fragmented.  This is usually the result of calling `frame.insert` many times, which has poor performance.  Consider joining all columns at once using pd.concat(axis=1) instead. To get a de-fragmented frame, use `newframe = frame.copy()`\n",
      "  out[name] = series[name]\n",
      "/home/mark/.local/lib/python3.10/site-packages/uproot/interpretation/library.py:795: PerformanceWarning: DataFrame is highly fragmented.  This is usually the result of calling `frame.insert` many times, which has poor performance.  Consider joining all columns at once using pd.concat(axis=1) instead. To get a de-fragmented frame, use `newframe = frame.copy()`\n",
      "  out[name] = series[name]\n",
      "/home/mark/.local/lib/python3.10/site-packages/uproot/interpretation/library.py:795: PerformanceWarning: DataFrame is highly fragmented.  This is usually the result of calling `frame.insert` many times, which has poor performance.  Consider joining all columns at once using pd.concat(axis=1) instead. To get a de-fragmented frame, use `newframe = frame.copy()`\n",
      "  out[name] = series[name]\n",
      "/home/mark/.local/lib/python3.10/site-packages/uproot/interpretation/library.py:795: PerformanceWarning: DataFrame is highly fragmented.  This is usually the result of calling `frame.insert` many times, which has poor performance.  Consider joining all columns at once using pd.concat(axis=1) instead. To get a de-fragmented frame, use `newframe = frame.copy()`\n",
      "  out[name] = series[name]\n",
      "/home/mark/.local/lib/python3.10/site-packages/uproot/interpretation/library.py:795: PerformanceWarning: DataFrame is highly fragmented.  This is usually the result of calling `frame.insert` many times, which has poor performance.  Consider joining all columns at once using pd.concat(axis=1) instead. To get a de-fragmented frame, use `newframe = frame.copy()`\n",
      "  out[name] = series[name]\n",
      "/home/mark/.local/lib/python3.10/site-packages/uproot/interpretation/library.py:795: PerformanceWarning: DataFrame is highly fragmented.  This is usually the result of calling `frame.insert` many times, which has poor performance.  Consider joining all columns at once using pd.concat(axis=1) instead. To get a de-fragmented frame, use `newframe = frame.copy()`\n",
      "  out[name] = series[name]\n"
     ]
    }
   ],
   "source": [
    "# Now load it all into a pandas DataFrame and calculate a new variable\n",
    "df = _f.arrays(library = \"pd\")\n",
    "# Note that at this point we could pick some branches or make a selection. i.e.:\n",
    "# df = _f.arrays([\"B0_M\", \"D0_M\"], \"mu_ProbNNmu>0.8\", library = \"pd\")"
   ]
  },
  {
   "cell_type": "code",
   "execution_count": 15,
   "id": "62c0c79b",
   "metadata": {},
   "outputs": [
    {
     "name": "stderr",
     "output_type": "stream",
     "text": [
      "/tmp/ipykernel_318139/3748663082.py:2: PerformanceWarning: DataFrame is highly fragmented.  This is usually the result of calling `frame.insert` many times, which has poor performance.  Consider joining all columns at once using pd.concat(axis=1) instead. To get a de-fragmented frame, use `newframe = frame.copy()`\n",
      "  df[\"deltam\"] = df[\"Dst_M\"] - df[\"D0_M\"]\n"
     ]
    }
   ],
   "source": [
    "# Now add a new variable that is the difference in D* and D0 masses\n",
    "df[\"deltam\"] = df[\"Dst_M\"] - df[\"D0_M\"]"
   ]
  },
  {
   "cell_type": "code",
   "execution_count": 22,
   "id": "032bb854",
   "metadata": {},
   "outputs": [],
   "source": [
    "# Now write the tree to a new file\n",
    "outfile = uproot.recreate(\"newfile.root\")\n",
    "outfile[\"DecayTree\"] = df\n",
    "outfile.close()"
   ]
  },
  {
   "cell_type": "code",
   "execution_count": null,
   "id": "5bd1acf3",
   "metadata": {},
   "outputs": [],
   "source": []
  }
 ],
 "metadata": {
  "kernelspec": {
   "display_name": "Python 3 (ipykernel)",
   "language": "python",
   "name": "python3"
  },
  "language_info": {
   "codemirror_mode": {
    "name": "ipython",
    "version": 3
   },
   "file_extension": ".py",
   "mimetype": "text/x-python",
   "name": "python",
   "nbconvert_exporter": "python",
   "pygments_lexer": "ipython3",
   "version": "3.10.6"
  }
 },
 "nbformat": 4,
 "nbformat_minor": 5
}
