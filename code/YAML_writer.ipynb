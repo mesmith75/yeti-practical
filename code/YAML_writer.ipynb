{
 "cells": [
  {
   "cell_type": "markdown",
   "id": "fd55e6b4",
   "metadata": {},
   "source": [
    "Here is a short script to generate a simple `config.yaml`. We use `oyaml` to keep the `dict` keys ordered. The produced file is not immediately useable - you need to go through and remove the quotation marks around the arrays. However you may find this less fiddly than making a giant config file yourself - particularly as this fit is simple and so the individual components will not require fine tuning."
   ]
  },
  {
   "cell_type": "code",
   "execution_count": 47,
   "id": "e2a9128a",
   "metadata": {},
   "outputs": [],
   "source": [
    "import oyaml as yaml"
   ]
  },
  {
   "cell_type": "code",
   "execution_count": 48,
   "id": "71680497",
   "metadata": {},
   "outputs": [],
   "source": [
    "file_list = {\n",
    "    \"Signal\" : {\"file\" : \"B02Dstarmunu_Dstar2D0pi_EvtGen_tree.root\", \"yield\" : 4938045.1430},\n",
    "    \"Bu_Dststmunu_2420\" : {\"file\" : \"Bu2Dstarstarmunu_Dstarstar2D0pi_EvtGen_D12420_tree.root\", \"yield\" : 952027.6969},\n",
    "    \"Bu_Dststmunu_2460\" : {\"file\" : \"Bu2Dstarstarmunu_Dstarstar2D0pi_EvtGen_D2star2460_tree.root\", \"yield\" : 502027.6969},\n",
    "    \"Bu_DstD\" : {\"file\" : \"Bu2DstarDK_Dstar2D0pi_D2K0munu_EvtGen_tree.root\", \"yield\" : 65806.3106},\n",
    "    \"Combinatorial\" : {\"file\" : \"Combinatorial_data.root\", \"yield\" : 9143.6973}\n",
    "}"
   ]
  },
  {
   "cell_type": "code",
   "execution_count": 49,
   "id": "0453fc54",
   "metadata": {},
   "outputs": [],
   "source": [
    "my_config = {\n",
    "    \"General\" : {\n",
    "          \"InputPath\": \"/home/mark/Documents/localWork/yeti-practical/data/{SamplePath}\",\n",
    "          \"VariationPath\": \"nominal\",\n",
    "          \"Measurement\": \"example\",\n",
    "          \"HistogramFolder\": \"../data/\"\n",
    "    },\n",
    "    \"Regions\": [\n",
    "        { \"Name\": \"Signal_region\",\n",
    "          \"Variable\": \"B0_Mcorr\",\n",
    "          \"Binning\": \"[3, 4.5, 5, 5.5, 6, 6.5, 7]\",\n",
    "          \"Filter\": \"mu_ProbNNmu > 0.8\",\n",
    "       }\n",
    "    ],\n",
    "    \"Samples\" : [{\"Name\" : \"Data\", \"SamplePath\" : \"data_test.root\", \"Tree\" : \"DecayTree\", \"Data\" : True}],\n",
    "    \"NormFactors\" : []\n",
    "}"
   ]
  },
  {
   "cell_type": "code",
   "execution_count": 50,
   "id": "48f2bc06",
   "metadata": {},
   "outputs": [],
   "source": [
    "for k, v in file_list.items():\n",
    "    my_config[\"Samples\"].append({\"Name\" : k, \"SamplePath\" : v[\"file\"], \"Tree\" : \"DecayTree\", \"DisableStaterror\" : False})\n",
    "    my_config[\"NormFactors\"].append({\"Name\": k+\"_norm\", \"Samples\" : k, \"Nominal\" : v[\"yield\"], \"Bounds\" :  \"[0,10000000]\"})"
   ]
  },
  {
   "cell_type": "code",
   "execution_count": 51,
   "id": "19363266",
   "metadata": {},
   "outputs": [],
   "source": [
    "with open(\"simple_config.yaml\", \"w\") as _f:\n",
    "    yaml.safe_dump(my_config, _f, default_flow_style=False)\n"
   ]
  },
  {
   "cell_type": "code",
   "execution_count": null,
   "id": "3079a920",
   "metadata": {},
   "outputs": [],
   "source": []
  }
 ],
 "metadata": {
  "kernelspec": {
   "display_name": "Python 3 (ipykernel)",
   "language": "python",
   "name": "python3"
  },
  "language_info": {
   "codemirror_mode": {
    "name": "ipython",
    "version": 3
   },
   "file_extension": ".py",
   "mimetype": "text/x-python",
   "name": "python",
   "nbconvert_exporter": "python",
   "pygments_lexer": "ipython3",
   "version": "3.10.6"
  }
 },
 "nbformat": 4,
 "nbformat_minor": 5
}
